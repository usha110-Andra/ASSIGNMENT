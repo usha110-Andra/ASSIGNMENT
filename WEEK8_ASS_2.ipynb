{
  "nbformat": 4,
  "nbformat_minor": 0,
  "metadata": {
    "colab": {
      "private_outputs": true,
      "provenance": []
    },
    "kernelspec": {
      "name": "python3",
      "display_name": "Python 3"
    },
    "language_info": {
      "name": "python"
    }
  },
  "cells": [
    {
      "cell_type": "code",
      "execution_count": null,
      "metadata": {
        "id": "tC0uj2qQRn1s"
      },
      "outputs": [],
      "source": [
        "# 1. Write a program to print the following number pattern using a loop.\n",
        "#1\n",
        "#1 2\n",
        "#1 2 3\n",
        "#1 2 3 4\n",
        "#1 2 3 4 5\n",
        "\n",
        "for i in range(1,6):\n",
        "  for j in range(1,i+1):\n",
        "    print(j,end=\" \")\n",
        "  print()"
      ]
    },
    {
      "cell_type": "code",
      "source": [
        "# 2. Calculate the sum of all numbers from 1 to a given number\n",
        "n=int(input(\"Enter the number\"))\n",
        "sum=0\n",
        "for i in range(1,n+1):\n",
        "  sum=sum+i\n",
        "  print(\"sum of\",n,\"numbers is\",sum)"
      ],
      "metadata": {
        "id": "7Yc4OpExShvD"
      },
      "execution_count": null,
      "outputs": []
    },
    {
      "cell_type": "code",
      "source": [
        "# 3. Write a program to display only those numbers from a list [12, 75, 150, 180, 145, 525, 50]\n",
        "# that satisfy the following conditions\n",
        "# 1. The number must be divisible by five\n",
        "# 2. If the number is greater than 150, then skip it and move to the next number\n",
        "# 3. If the number is greater than 500, then stop the loop\n",
        "\n",
        "numbers = [12, 75, 150, 180, 145, 525, 50]\n",
        "\n",
        "for number in numbers:\n",
        "    if number > 500:\n",
        "        break\n",
        "    if number % 5 == 0:\n",
        "        if number <= 150:\n",
        "            print(number)"
      ],
      "metadata": {
        "id": "RMWr_pMMT295"
      },
      "execution_count": null,
      "outputs": []
    },
    {
      "cell_type": "code",
      "source": [
        "# 3 Write a program to count the total number of digits in a number using a while loop.\n",
        "# (The number is 75869, so the output should be 5.)\n",
        "number = 75869\n",
        "count = 0\n",
        "\n",
        "while number != 0:\n",
        "    number //= 10\n",
        "    count += 1\n",
        "\n",
        "print(\"Total number of digits:\", count)"
      ],
      "metadata": {
        "id": "vfKCn6t8VbFH"
      },
      "execution_count": null,
      "outputs": []
    },
    {
      "cell_type": "code",
      "source": [
        "# 5. Write a program to print list [10, 20, 30, 40, 50] in reverse order using a loop\n",
        "my_list = [10, 20, 30, 40, 50]\n",
        "\n",
        "\n",
        "for i in range(len(my_list) - 1, -1, -1):\n",
        "    print(my_list[i])"
      ],
      "metadata": {
        "id": "pS4R_FuNVtr7"
      },
      "execution_count": null,
      "outputs": []
    },
    {
      "cell_type": "markdown",
      "source": [],
      "metadata": {
        "id": "CbUxGpLnWCpk"
      }
    },
    {
      "cell_type": "code",
      "source": [
        "# 6. Display numbers from -10 to -1 using for loop\n",
        "for i in range(-10, 0):\n",
        "    print(i)"
      ],
      "metadata": {
        "id": "pgyQZNZ2V8lv"
      },
      "execution_count": null,
      "outputs": []
    },
    {
      "cell_type": "code",
      "source": [
        "# 7. Write a program to print prime numbers between 1 and 100\n",
        "def is_prime(n):\n",
        "  \"\"\"Returns True if n is a prime number, False otherwise.\"\"\"\n",
        "  if n <= 1:\n",
        "    return False\n",
        "  for i in range(2, int(n**0.5) + 1):\n",
        "    if n % i == 0:\n",
        "      return False\n",
        "  return True\n",
        "\n",
        "\n",
        "print(\"Prime numbers between 1 and 100:\")\n",
        "for num in range(2, 101):\n",
        "  if is_prime(num):\n",
        "    print(num)"
      ],
      "metadata": {
        "id": "Vfd25WJBWFEK"
      },
      "execution_count": null,
      "outputs": []
    },
    {
      "cell_type": "code",
      "source": [
        "# 8. Write a program to print Fibonacci series up to 10 terms\n",
        "#(For example, 0, 1, 1, 2, 3, 5, 8, 13, 21)\n",
        "\n",
        "a, b = 0, 1\n",
        "\n",
        "\n",
        "for i in range(10):\n",
        "    print(a, end=\" \")\n",
        "    a, b = b, a + b"
      ],
      "metadata": {
        "id": "oy6my6GqWNzm"
      },
      "execution_count": null,
      "outputs": []
    },
    {
      "cell_type": "code",
      "source": [
        "# 9. Write a program to use the loop to find the factorial of a given number.\n",
        "\n",
        "num = int(input(\"Enter a number: \"))\n",
        "\n",
        "\n",
        "factorial = 1\n",
        "\n",
        "if num < 0:\n",
        "    print(\"Factorial is not defined for negative numbers\")\n",
        "elif num == 0:\n",
        "    print(\"The factorial of 0 is 1\")\n",
        "else:\n",
        "    for i in range(1, num + 1):\n",
        "        factorial = factorial * i\n",
        "    print(\"The factorial of\", num, \"is\", factorial)"
      ],
      "metadata": {
        "id": "DdMpwf4wWckp"
      },
      "execution_count": null,
      "outputs": []
    },
    {
      "cell_type": "code",
      "source": [
        "# 10. Write a program to print reverse a given integer number\n",
        "# (Input: 76542 output: 24567)76542\n",
        "r\n",
        "num = int(input(\"Enter an integer: \"))\n",
        "\n",
        "reversed_num = 0\n",
        "while num > 0:\n",
        "    remainder = num % 10\n",
        "    reversed_num = (reversed_num * 10) + remainder\n",
        "    num //= 10\n",
        "\n",
        "print(\"Reversed Number:\", reversed_num)"
      ],
      "metadata": {
        "id": "ishvr_gAWnrg"
      },
      "execution_count": null,
      "outputs": []
    }
  ]
}