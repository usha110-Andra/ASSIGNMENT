{
  "nbformat": 4,
  "nbformat_minor": 0,
  "metadata": {
    "colab": {
      "private_outputs": true,
      "provenance": [],
      "cell_execution_strategy": "setup"
    },
    "kernelspec": {
      "name": "python3",
      "display_name": "Python 3"
    },
    "language_info": {
      "name": "python"
    }
  },
  "cells": [
    {
      "cell_type": "code",
      "execution_count": null,
      "metadata": {
        "id": "ylxQ2yDRYYtv"
      },
      "outputs": [],
      "source": [
        "# 1. Write a program to display last digit of a number\n",
        "num=int(input(\"Enter a number\"))\n",
        "last_digit=num%10\n",
        "print(\"last digit is \",last_digit)"
      ]
    },
    {
      "cell_type": "code",
      "source": [
        "# 2. Write a program to check whether the last number (given by the user) is odd or even\n",
        "num=int(input(\"enter a number \"))\n",
        "last_digit=num%10\n",
        "if last_digit%2==0:\n",
        "  print(\"last digit is even\")\n",
        "  else:\n",
        "    print(\"last digit is odd\")"
      ],
      "metadata": {
        "id": "Lx9CmbGhfIle"
      },
      "execution_count": null,
      "outputs": []
    },
    {
      "cell_type": "code",
      "source": [
        "# 3. Write a program to check whether the person is eligible to vote or note\n",
        "age=int(input(\"enter age \"))\n",
        "if age>18:\n",
        "   print(\"the person is eligible for vote \")\n",
        "else:\n",
        "    print(\"person is not eligible for vote \")"
      ],
      "metadata": {
        "id": "XK__1H4Bg54X"
      },
      "execution_count": null,
      "outputs": []
    },
    {
      "cell_type": "code",
      "source": [
        "# 4. Write a program to display the grade according to the percentage of mark\n",
        "x=int(input(\"Enter the persantage of marks \"))\n",
        "if x>90:\n",
        "    print(\"Grade A\")\n",
        "elif x>80 and x<=90:\n",
        "    print(\"Grade B\")\n",
        "elif x>=70 and x<=80:\n",
        "    print(\"Grade C\")\n",
        "else:\n",
        "     print(\"Grade E\")\n",
        "\n",
        "\n"
      ],
      "metadata": {
        "id": "9ebBtyhUhbHg"
      },
      "execution_count": null,
      "outputs": []
    },
    {
      "cell_type": "code",
      "source": [
        "# 5. Write a program to display the day in a week according to the number enterd by the user\n",
        "day=int(input(\" ender a day of a week \"))\n",
        "if day==1:\n",
        "  print(\"Sunday\")\n",
        "elif day==2:\n",
        "  print(\"Monday\")\n",
        "elif day==3:\n",
        "  print(\"Tuesday\")\n",
        "if day==4:\n",
        "  print(\"Wednesday\")\n",
        "elif day==5:\n",
        "  print(\"Thursday\")\n",
        "elif day==6:\n",
        "  print(\"Friday\")\n",
        "elif day==7:\n",
        "  print(\"saturday\")\n",
        "else:\n",
        "  print(\"invalid\")\n"
      ],
      "metadata": {
        "id": "Xj7Sim1UmJDZ"
      },
      "execution_count": null,
      "outputs": []
    },
    {
      "cell_type": "code",
      "source": [
        "# 6.Write a program to check whether the number entered is 3 digits or not\n",
        "num=int(input(\"enter a number\"))\n",
        "if num>99 and num<1000:\n",
        "  print(\"Number is 3 digit number \")\n",
        "else:\n",
        "  print(\"Nuber is not a digit three digit number\")"
      ],
      "metadata": {
        "id": "lATVLG0hsqFT"
      },
      "execution_count": null,
      "outputs": []
    },
    {
      "cell_type": "code",
      "source": [
        "# 7.Write a program to check whether the entered number is positive or not\n",
        "num=int(input(\"Enter a number\"))\n",
        "if num>=0:\n",
        "  print(\"Entered number is positive\")\n",
        "else:\n",
        "  print(\"Entered number is negative\")"
      ],
      "metadata": {
        "id": "3M6K_WN6veRG"
      },
      "execution_count": null,
      "outputs": []
    },
    {
      "cell_type": "code",
      "source": [
        "# 8. Write a program to check whether the entered number is divisible by 8 and 9\n",
        "num=int(input(\"Enter a number\"))\n",
        "if num%8==0 and num%9==0:\n",
        "  print(\"number is divisible by 8 and 9\")\n",
        "else:\n",
        "  print(\"Number is not divisible by 8 and 9\")"
      ],
      "metadata": {
        "id": "Mss04m7jwMn0"
      },
      "execution_count": null,
      "outputs": []
    },
    {
      "cell_type": "code",
      "source": [
        "# 9. Write a program to find the largest of three number\n",
        "num1=int(input(\"Enter first number\"))\n",
        "num2=int(input(\"Enter second number\"))\n",
        "num3=int(input(\"Enter third number\"))\n",
        "if num1>num2 and num1>num3:\n",
        "  print(\"num1 is largest\")\n",
        "elif num2>num1 and num2>num3:\n",
        "  print(\"num2 is largest\")\n",
        "else:\n",
        "  print(\"num3 is largest\")\n"
      ],
      "metadata": {
        "id": "PXdCTIdzw0un"
      },
      "execution_count": null,
      "outputs": []
    },
    {
      "cell_type": "code",
      "source": [
        "from google.colab import drive\n",
        "drive.mount('/content/drive')"
      ],
      "metadata": {
        "id": "_MwjRzRS13IY"
      },
      "execution_count": null,
      "outputs": []
    },
    {
      "cell_type": "code",
      "source": [
        "# 10.Write a program to check whether the entered character is vowel or not\n",
        "ch=input(\"Enter a character\")\n",
        "if ch.lower() in ['a','e','i','o','u']:\n",
        "  print(\"Enterd character is vowel\")\n",
        "else:\n",
        "  print(\"Entered character is not a vowel\")"
      ],
      "metadata": {
        "id": "xddBzWzJxqZW"
      },
      "execution_count": null,
      "outputs": []
    }
  ]
}